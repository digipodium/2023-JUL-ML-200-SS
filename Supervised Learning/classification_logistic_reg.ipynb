{
 "cells": [
  {
   "cell_type": "code",
   "execution_count": null,
   "metadata": {},
   "outputs": [],
   "source": [
    "import pandas as pd\n",
    "import numpy as np\n",
    "import matplotlib.pyplot as plt"
   ]
  },
  {
   "cell_type": "code",
   "execution_count": null,
   "metadata": {},
   "outputs": [],
   "source": [
    "url ='https://raw.githubusercontent.com/digipodium/Datasets/main/classfication/Social_Network_Ads.csv'\n",
    "df = pd.read_csv(url)\n",
    "df.head()"
   ]
  },
  {
   "cell_type": "code",
   "execution_count": null,
   "metadata": {},
   "outputs": [],
   "source": [
    "from sklearn.linear_model import LogisticRegression\n",
    "from sklearn.neighbors import KNeighborsClassifier\n",
    "from sklearn.svm import SVC\n",
    "# model selection\n",
    "from sklearn.model_selection import train_test_split\n",
    "from sklearn.metrics import confusion_matrix, classification_report, f1_score, precision_score, recall_score\n",
    "# pipeline\n",
    "from sklearn.pipeline import Pipeline\n",
    "from sklearn.preprocessing import StandardScaler, OrdinalEncoder\n",
    "from sklearn.compose import ColumnTransformer"
   ]
  },
  {
   "cell_type": "code",
   "execution_count": null,
   "metadata": {},
   "outputs": [],
   "source": [
    "X = df.drop(columns=['User ID', 'Purchased'])\n",
    "y = df['Purchased']"
   ]
  },
  {
   "cell_type": "code",
   "execution_count": null,
   "metadata": {},
   "outputs": [],
   "source": [
    "cat_cols = X.select_dtypes(exclude='number').columns.tolist()\n",
    "num_cols = X.select_dtypes(include='number').columns.tolist()\n",
    "print(f'Categorical columns: {cat_cols}')\n",
    "print(f'Numerical columns: {num_cols}')"
   ]
  },
  {
   "cell_type": "code",
   "execution_count": null,
   "metadata": {},
   "outputs": [],
   "source": [
    "cat_pipe = Pipeline([\n",
    "    ('ordinal', OrdinalEncoder())\n",
    "])\n",
    "num_pipe = Pipeline([\n",
    "    ('scale', StandardScaler())\n",
    "])\n",
    "\n",
    "col_transform = ColumnTransformer([\n",
    "    ('categorical', cat_pipe, cat_cols),\n",
    "    ('numerical', num_pipe, num_cols)\n",
    "]) \n",
    "\n",
    "# logistic regression\n",
    "lr_pipe = Pipeline([\n",
    "    ('transform', col_transform),\n",
    "    ('model', LogisticRegression())\n",
    "])\n",
    "\n",
    "# knn\n",
    "knn_pipe = Pipeline([\n",
    "    ('transform', col_transform),\n",
    "    ('model', KNeighborsClassifier())\n",
    "])\n",
    "\n",
    "# svm\n",
    "svm_pipe = Pipeline([\n",
    "    ('transform', col_transform),\n",
    "    ('model', SVC())\n",
    "])"
   ]
  },
  {
   "cell_type": "code",
   "execution_count": null,
   "metadata": {},
   "outputs": [],
   "source": [
    "X_train, X_test, y_train, y_test = train_test_split(X, y, test_size=0.2, random_state=0)\n",
    "lr_pipe.fit(X_train, y_train)\n",
    "knn_pipe.fit(X_train, y_train)\n",
    "svm_pipe.fit(X_train, y_train)"
   ]
  },
  {
   "cell_type": "code",
   "execution_count": null,
   "metadata": {},
   "outputs": [],
   "source": [
    "import seaborn as sns\n",
    "\n",
    "def plot_confusion_matrix(xtest, ytest, model):\n",
    "    ypred = model.predict(xtest)\n",
    "    cm = confusion_matrix(ytest, ypred)\n",
    "    fig, ax = plt.subplots(figsize=(2,2))\n",
    "    sns.heatmap(cm, annot=True, fmt='d', ax=ax, cbar=False)"
   ]
  },
  {
   "cell_type": "code",
   "execution_count": null,
   "metadata": {},
   "outputs": [],
   "source": [
    "plot_confusion_matrix(X_test, y_test, lr_pipe)\n",
    "plot_confusion_matrix(X_test, y_test, knn_pipe)\n",
    "plot_confusion_matrix(X_test, y_test, svm_pipe)"
   ]
  },
  {
   "cell_type": "code",
   "execution_count": null,
   "metadata": {},
   "outputs": [],
   "source": [
    "# precision, recall, f1-score\n",
    "ypred_1 = lr_pipe.predict(X_test)\n",
    "print(f'Precision= {precision_score(y_test, ypred_1)}')\n",
    "print(f'Recall= {recall_score(y_test, ypred_1)}') \n",
    "print(f'F1-score= {f1_score(y_test, ypred_1)}')"
   ]
  },
  {
   "cell_type": "code",
   "execution_count": null,
   "metadata": {},
   "outputs": [],
   "source": [
    "ypred_2 = knn_pipe.predict(X_test)\n",
    "print(f'Precision= {precision_score(y_test, ypred_2)}')\n",
    "print(f'Recall= {recall_score(y_test, ypred_2)}')\n",
    "print(f'F1-score= {f1_score(y_test, ypred_2)}')"
   ]
  },
  {
   "cell_type": "code",
   "execution_count": null,
   "metadata": {},
   "outputs": [],
   "source": [
    "ypred_3 = knn_pipe.predict(X_test)\n",
    "print(classification_report(y_test, ypred_3))"
   ]
  },
  {
   "cell_type": "code",
   "execution_count": null,
   "metadata": {},
   "outputs": [],
   "source": [
    "ypred_1 = lr_pipe.predict(X_test)\n",
    "print(classification_report(y_test, ypred_1))"
   ]
  },
  {
   "cell_type": "code",
   "execution_count": null,
   "metadata": {},
   "outputs": [],
   "source": [
    "ypred_2 = svm_pipe.predict(X_test)\n",
    "print(classification_report(y_test, ypred_2))"
   ]
  },
  {
   "cell_type": "code",
   "execution_count": null,
   "metadata": {},
   "outputs": [],
   "source": [
    "# visualize distribution of classes in dataset"
   ]
  },
  {
   "cell_type": "markdown",
   "metadata": {},
   "source": [
    "# make classification on diabetes dataset"
   ]
  },
  {
   "cell_type": "markdown",
   "metadata": {},
   "source": [
    "to be covered\n",
    "- visualizing classification ✅\n",
    "- class imbalance problem\n",
    "- column selection"
   ]
  },
  {
   "cell_type": "code",
   "execution_count": null,
   "metadata": {},
   "outputs": [],
   "source": [
    "# simple pipeline for easy visualization\n",
    "num_pipe = Pipeline([\n",
    "    ('scale', StandardScaler())\n",
    "])\n",
    "\n",
    "col_transform = ColumnTransformer([\n",
    "    ('numerical', num_pipe, num_cols)\n",
    "]) \n",
    "\n",
    "# svm\n",
    "svm_pipe = Pipeline([\n",
    "    ('transform', col_transform),\n",
    "    ('model', SVC())\n",
    "])\n",
    "\n",
    "# logistic regression\n",
    "lr_pipe = Pipeline([\n",
    "    ('transform', col_transform),\n",
    "    ('model', LogisticRegression())\n",
    "])\n",
    "\n",
    "# knn\n",
    "knn_pipe = Pipeline([\n",
    "    ('transform', col_transform),\n",
    "    ('model', KNeighborsClassifier())\n",
    "])"
   ]
  },
  {
   "cell_type": "code",
   "execution_count": null,
   "metadata": {},
   "outputs": [],
   "source": [
    "X = df.drop(columns=['User ID', 'Purchased', 'Gender'])\n",
    "y = df['Purchased']\n",
    "X_train, X_test, y_train, y_test = train_test_split(X, y, test_size=0.2, random_state=0)\n",
    "svm_pipe.fit(X_train, y_train)\n",
    "lr_pipe.fit(X_train, y_train)\n",
    "knn_pipe.fit(X_train, y_train)"
   ]
  },
  {
   "cell_type": "code",
   "execution_count": null,
   "metadata": {},
   "outputs": [],
   "source": [
    "from utils.visualize import plot_classification"
   ]
  },
  {
   "cell_type": "code",
   "execution_count": null,
   "metadata": {},
   "outputs": [],
   "source": [
    "_ = plot_classification(svm_pipe, X_train, y_train, 'Age', 'EstimatedSalary')"
   ]
  },
  {
   "cell_type": "code",
   "execution_count": null,
   "metadata": {},
   "outputs": [],
   "source": [
    "_ = plot_classification(lr_pipe, X_train, y_train, 'Age', 'EstimatedSalary')"
   ]
  },
  {
   "cell_type": "code",
   "execution_count": null,
   "metadata": {},
   "outputs": [],
   "source": [
    "_ = plot_classification(knn_pipe, X_train, y_train, 'Age', 'EstimatedSalary')"
   ]
  },
  {
   "cell_type": "code",
   "execution_count": null,
   "metadata": {},
   "outputs": [],
   "source": [
    "df['Purchased'].value_counts().plot(kind='pie', autopct='%.2f%%', explode=[0,0.1], shadow=True, figsize=(4,4))"
   ]
  },
  {
   "cell_type": "markdown",
   "metadata": {},
   "source": [
    "# handling class imbalance problem\n",
    "`pip install imblearn`\n",
    "\n",
    "- under sampling\n",
    "    - near miss\n",
    "- over sampling\n",
    "    - SMOTE (Synthetic Minority Over-sampling Technique)"
   ]
  },
  {
   "cell_type": "code",
   "execution_count": null,
   "metadata": {},
   "outputs": [],
   "source": [
    "from imblearn.over_sampling import SMOTE\n",
    "from imblearn.under_sampling import NearMiss"
   ]
  },
  {
   "cell_type": "code",
   "execution_count": null,
   "metadata": {},
   "outputs": [],
   "source": [
    "im1 = SMOTE()\n",
    "im2 = NearMiss()"
   ]
  },
  {
   "cell_type": "code",
   "execution_count": null,
   "metadata": {},
   "outputs": [],
   "source": [
    "Xi, yi = im1.fit_resample(X, y)\n",
    "print(f'Original dataset shape {X.shape}')\n",
    "print(f'Resampled dataset shape {Xi.shape}')\n"
   ]
  },
  {
   "cell_type": "code",
   "execution_count": null,
   "metadata": {},
   "outputs": [],
   "source": [
    "yi.value_counts().plot(kind='pie', autopct='%.2f%%', explode=[0,0.1],\n",
    "                        shadow=True, figsize=(4,4))"
   ]
  },
  {
   "cell_type": "code",
   "execution_count": null,
   "metadata": {},
   "outputs": [],
   "source": [
    "Xi2, yi2 = im2.fit_resample(X, y)\n",
    "print(f'Original dataset shape {X.shape}')\n",
    "print(f'Resampled dataset shape {Xi2.shape}')"
   ]
  },
  {
   "cell_type": "code",
   "execution_count": null,
   "metadata": {},
   "outputs": [],
   "source": [
    "yi2.value_counts().plot(kind='pie', autopct='%.2f%%', explode=[0,0.1],\n",
    "                        shadow=True, figsize=(4,4))"
   ]
  },
  {
   "cell_type": "code",
   "execution_count": null,
   "metadata": {},
   "outputs": [],
   "source": []
  }
 ],
 "metadata": {
  "kernelspec": {
   "display_name": "base",
   "language": "python",
   "name": "python3"
  },
  "language_info": {
   "codemirror_mode": {
    "name": "ipython",
    "version": 3
   },
   "file_extension": ".py",
   "mimetype": "text/x-python",
   "name": "python",
   "nbconvert_exporter": "python",
   "pygments_lexer": "ipython3",
   "version": "3.11.5"
  },
  "orig_nbformat": 4
 },
 "nbformat": 4,
 "nbformat_minor": 2
}
