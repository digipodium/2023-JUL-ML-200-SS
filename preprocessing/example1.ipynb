{
 "cells": [
  {
   "cell_type": "markdown",
   "metadata": {},
   "source": [
    "Preprocessing\n",
    "- unwanted data\n",
    "    - columns\n",
    "        - unique values -> drop\n",
    "    - dependent variable has missing entries\n",
    "        - drop the whole row\n",
    "- independent column missing data (imputation)\n",
    "    - more than 50% missing -> drop\n",
    "    - less than 50% missing\n",
    "        - numerical data (mean, median, algo)\n",
    "            - `SimpleImputer` from `sklearn.impute` package\n",
    "        - categorical data (mode, algo)\n",
    "            - `SimpleImputer` from `sklearn.impute` package\n",
    "- text data (encoding)\n",
    "    - Text -> Numbers\n",
    "        - Label Encoding\n",
    "            - Dependent Column -> `LabelEncoder` from `sklearn.preprocessing` package\n",
    "            - Independent Column -> `OrdinalEncoder` from `sklearn.preprocessing` package\n",
    "        - One Hot Encoding\n",
    "            - Dummy Variable = [0, 0, 1]\n",
    "                - `OneHotEncoder` from `sklearn.preprocessing` package\n",
    "- normalisation\n",
    "    - min-max \n",
    "    - standard \n",
    "- skewness\n",
    "    - log\n",
    "    - box-cox"
   ]
  },
  {
   "cell_type": "code",
   "execution_count": null,
   "metadata": {},
   "outputs": [],
   "source": [
    "import pandas as pd\n",
    "import numpy as np\n",
    "from sklearn.impute import SimpleImputer  "
   ]
  },
  {
   "cell_type": "code",
   "execution_count": null,
   "metadata": {},
   "outputs": [],
   "source": [
    "pd.set_option('display.max_columns', None)"
   ]
  },
  {
   "cell_type": "code",
   "execution_count": null,
   "metadata": {},
   "outputs": [],
   "source": [
    "df = pd.read_csv('https://raw.githubusercontent.com/digipodium/Datasets/main/regression/automobile.csv', index_col=0)\n",
    "df.head()"
   ]
  },
  {
   "cell_type": "code",
   "execution_count": null,
   "metadata": {},
   "outputs": [],
   "source": [
    "df.replace('?', np.nan, inplace=True)\n",
    "df.isnull().sum()"
   ]
  },
  {
   "cell_type": "code",
   "execution_count": null,
   "metadata": {},
   "outputs": [],
   "source": [
    "missing_values_cols = df.isnull().sum()\n",
    "missing_values_cols[missing_values_cols > 0].index.tolist()"
   ]
  },
  {
   "cell_type": "code",
   "execution_count": null,
   "metadata": {},
   "outputs": [],
   "source": [
    "df.dropna(subset='price', inplace=True)"
   ]
  },
  {
   "cell_type": "code",
   "execution_count": null,
   "metadata": {},
   "outputs": [],
   "source": [
    "df.isnull().sum() \n",
    "cols_with_missing = ['normalized-losses','num-of-doors','bore',\n",
    "                     'stroke','horsepower','peak-rpm']\n",
    "df[cols_with_missing]"
   ]
  },
  {
   "cell_type": "code",
   "execution_count": null,
   "metadata": {},
   "outputs": [],
   "source": [
    "num_si = SimpleImputer()\n",
    "cat_si = SimpleImputer(strategy='most_frequent')\n",
    "num_cols = ['normalized-losses','bore','stroke','horsepower','peak-rpm']\n",
    "df[num_cols] = num_si.fit_transform(df[num_cols])"
   ]
  },
  {
   "cell_type": "code",
   "execution_count": null,
   "metadata": {},
   "outputs": [],
   "source": [
    "df[['num-of-doors']] = cat_si.fit_transform(df[['num-of-doors']])"
   ]
  },
  {
   "cell_type": "code",
   "execution_count": null,
   "metadata": {},
   "outputs": [],
   "source": [
    "df[['num-of-doors']].shape"
   ]
  },
  {
   "cell_type": "code",
   "execution_count": null,
   "metadata": {},
   "outputs": [],
   "source": [
    "cat_cols = df.select_dtypes(include=['object']).columns.tolist()[:-1]\n",
    "df[cat_cols]"
   ]
  },
  {
   "cell_type": "code",
   "execution_count": null,
   "metadata": {},
   "outputs": [],
   "source": [
    "from sklearn.preprocessing import OrdinalEncoder, OneHotEncoder"
   ]
  },
  {
   "cell_type": "code",
   "execution_count": null,
   "metadata": {},
   "outputs": [],
   "source": [
    "ord_cols = []\n",
    "hot_encode_cols = []\n",
    "for col in df[cat_cols]:\n",
    "    count = df[col].nunique()\n",
    "    if count <= 2:\n",
    "        ord_cols.append(col)\n",
    "    else:\n",
    "        hot_encode_cols.append(col)\n",
    "    print(f'{col:20}{count}')\n",
    "print(ord_cols)\n",
    "print(hot_encode_cols)"
   ]
  },
  {
   "cell_type": "code",
   "execution_count": null,
   "metadata": {},
   "outputs": [],
   "source": [
    "# ordinal encoding\n",
    "ordEnc = OrdinalEncoder()\n",
    "df[ord_cols] = ordEnc.fit_transform(df[ord_cols])\n",
    "df.head()"
   ]
  },
  {
   "cell_type": "code",
   "execution_count": null,
   "metadata": {},
   "outputs": [],
   "source": [
    "hot_encode_cols"
   ]
  },
  {
   "cell_type": "code",
   "execution_count": null,
   "metadata": {},
   "outputs": [],
   "source": [
    "make_hot_enc = OneHotEncoder(drop='first', sparse_output=False)\n",
    "make_hot_enc.fit_transform(df[['body-style']])"
   ]
  },
  {
   "cell_type": "markdown",
   "metadata": {},
   "source": [
    "pipeline implementation"
   ]
  },
  {
   "cell_type": "code",
   "execution_count": null,
   "metadata": {},
   "outputs": [],
   "source": [
    "from sklearn.preprocessing import OrdinalEncoder, OneHotEncoder\n",
    "from sklearn.impute import SimpleImputer\n",
    "from sklearn.pipeline import Pipeline\n",
    "from sklearn.preprocessing import StandardScaler\n",
    "from sklearn.compose import ColumnTransformer\n",
    "from sklearn.model_selection import train_test_split"
   ]
  },
  {
   "cell_type": "code",
   "execution_count": null,
   "metadata": {},
   "outputs": [],
   "source": [
    "df = pd.read_csv('https://raw.githubusercontent.com/digipodium/Datasets/main/regression/automobile.csv', index_col=0)\n",
    "df.replace('?', np.nan, inplace=True)\n",
    "df.dropna(subset=['price'],inplace=True)"
   ]
  },
  {
   "cell_type": "code",
   "execution_count": null,
   "metadata": {},
   "outputs": [],
   "source": [
    "X, y = df.drop(columns='price'), df['price']"
   ]
  },
  {
   "cell_type": "code",
   "execution_count": null,
   "metadata": {},
   "outputs": [],
   "source": [
    "num_cols = X.select_dtypes(include=np.number).columns.tolist()\n",
    "cat_cols = X.select_dtypes(exclude=np.number).columns.tolist()\n",
    "ord_cols = []\n",
    "hot_encode_cols = []\n",
    "for col in X[cat_cols]:\n",
    "    count = X[col].nunique()\n",
    "    if count <= 2:\n",
    "        ord_cols.append(col)\n",
    "    else:\n",
    "        hot_encode_cols.append(col)\n",
    "print(num_cols)\n",
    "print(ord_cols)\n",
    "print(hot_encode_cols)"
   ]
  },
  {
   "cell_type": "code",
   "execution_count": null,
   "metadata": {},
   "outputs": [],
   "source": [
    "num_cols = ['symboling', 'wheel-base', 'length', 'width', 'height',\n",
    "    'curb-weight', 'engine-size', 'compression-ratio', 'city-mpg', 'highway-mpg',\n",
    "    'bore','stroke','horsepower','peak-rpm','normalized-losses',]\n",
    "\n",
    "hot_encode_cols = ['make', 'body-style', 'drive-wheels',\n",
    "     'engine-type', 'num-of-cylinders', 'fuel-system']"
   ]
  },
  {
   "cell_type": "code",
   "execution_count": null,
   "metadata": {},
   "outputs": [],
   "source": [
    "# creating pipleline for preprocessing\n",
    "num_pipeline = Pipeline([\n",
    "    ('imputer', SimpleImputer()),\n",
    "    ('scaler', StandardScaler())\n",
    "])\n",
    "num_pipeline"
   ]
  },
  {
   "cell_type": "code",
   "execution_count": null,
   "metadata": {},
   "outputs": [],
   "source": [
    "ord_pipeline = Pipeline([\n",
    "    ('imputer', SimpleImputer(strategy='most_frequent')),\n",
    "    ('encode', OrdinalEncoder()),\n",
    "])\n",
    "\n",
    "hot_pipeline = Pipeline([\n",
    "    ('imputer', SimpleImputer(strategy='most_frequent')),\n",
    "    ('encode', OneHotEncoder(drop='first', sparse_output=False)),\n",
    "])\n",
    "\n",
    "# compose the three pipelines\n",
    "preprocessor = ColumnTransformer([\n",
    "    ('ord', ord_pipeline, ord_cols),\n",
    "    ('hot', hot_pipeline, hot_encode_cols),\n",
    "    ('num', num_pipeline, num_cols),\n",
    "])\n",
    "\n",
    "preprocessor"
   ]
  },
  {
   "cell_type": "code",
   "execution_count": null,
   "metadata": {},
   "outputs": [],
   "source": [
    "preprocessor.fit_transform(X)"
   ]
  },
  {
   "cell_type": "code",
   "execution_count": null,
   "metadata": {},
   "outputs": [],
   "source": []
  }
 ],
 "metadata": {
  "kernelspec": {
   "display_name": "base",
   "language": "python",
   "name": "python3"
  },
  "language_info": {
   "codemirror_mode": {
    "name": "ipython",
    "version": 3
   },
   "file_extension": ".py",
   "mimetype": "text/x-python",
   "name": "python",
   "nbconvert_exporter": "python",
   "pygments_lexer": "ipython3",
   "version": "3.10.11"
  },
  "orig_nbformat": 4
 },
 "nbformat": 4,
 "nbformat_minor": 2
}
